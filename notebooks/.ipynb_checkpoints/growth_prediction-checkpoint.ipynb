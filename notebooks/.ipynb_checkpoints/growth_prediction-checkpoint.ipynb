{
 "cells": [
  {
   "cell_type": "markdown",
   "id": "2947f49f",
   "metadata": {},
   "source": [
    "# Mushroom Growth prediction model"
   ]
  }
 ],
 "metadata": {
  "language_info": {
   "name": "python"
  }
 },
 "nbformat": 4,
 "nbformat_minor": 5
}
